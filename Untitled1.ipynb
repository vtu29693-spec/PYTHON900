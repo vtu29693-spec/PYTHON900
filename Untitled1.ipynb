{
  "nbformat": 4,
  "nbformat_minor": 0,
  "metadata": {
    "colab": {
      "provenance": [],
      "toc_visible": true,
      "authorship_tag": "ABX9TyMetkZEwRZBCC95BOKSOMtB",
      "include_colab_link": true
    },
    "kernelspec": {
      "name": "python3",
      "display_name": "Python 3"
    },
    "language_info": {
      "name": "python"
    }
  },
  "cells": [
    {
      "cell_type": "markdown",
      "metadata": {
        "id": "view-in-github",
        "colab_type": "text"
      },
      "source": [
        "<a href=\"https://colab.research.google.com/github/vtu29693-spec/PYTHON900/blob/MAIN900/Untitled1.ipynb\" target=\"_parent\"><img src=\"https://colab.research.google.com/assets/colab-badge.svg\" alt=\"Open In Colab\"/></a>"
      ]
    },
    {
      "cell_type": "code",
      "source": [
        "def get_age():\n",
        "    while True:\n",
        "        try:\n",
        "            age = int(input(\"Please enter your age: \"))\n",
        "            if age < 0:\n",
        "                raise ValueError(\"Age cannot be negative.\")\n",
        "            return age\n",
        "        except ValueError as ve:\n",
        "            print(\"Invalid input:\", ve)\n",
        "\n",
        "try:\n",
        "    age = get_age()\n",
        "    print(\"Your age is:\", age)\n",
        "except ValueError as ve:\n",
        "    print(\"An error occurred:\", ve)\n"
      ],
      "metadata": {
        "colab": {
          "base_uri": "https://localhost:8080/"
        },
        "id": "mcDoel958IAv",
        "outputId": "1487aa9c-bcc8-4536-e0f2-ce8f0d6e8180"
      },
      "execution_count": 20,
      "outputs": [
        {
          "output_type": "stream",
          "name": "stdout",
          "text": [
            "Please enter your age: 20\n",
            "Your age is: 20\n"
          ]
        }
      ]
    },
    {
      "cell_type": "code",
      "source": [
        "def view_seat_details(seat_list, index):\n",
        "    try:\n",
        "        seat = seat_list[index]\n",
        "        print(\"Seat Details:\")\n",
        "        print(\"Seat Number:\", seat.get(\"number\"))\n",
        "        print(\"Section:\", seat.get(\"section\"))\n",
        "        print(\"Availability:\", \"Booked\" if seat.get(\"is_booked\") else \"Available\")\n",
        "    except IndexError:\n",
        "        print(\"Invalid seat index. Please select a valid seat.\")\n",
        "\n",
        "seats = [\n",
        "    {\"number\": \"A1\", \"section\": \"VIP\", \"is_booked\": False},\n",
        "    {\"number\": \"A2\", \"section\": \"VIP\", \"is_booked\": True},\n",
        "    {\"number\": \"B1\", \"section\": \"General\", \"is_booked\": False},\n",
        "    {\"number\": \"B2\", \"section\": \"General\", \"is_booked\": False}\n",
        "]\n",
        "\n",
        "try:\n",
        "    seat_index = int(input(\"Enter the index of the seat you want to view: \"))\n",
        "    view_seat_details(seats, seat_index)\n",
        "except ValueError:\n",
        "    print(\"Invalid input. Please enter a valid seat index (integer).\")\n"
      ],
      "metadata": {
        "colab": {
          "base_uri": "https://localhost:8080/"
        },
        "id": "d0J3-d9e8IDZ",
        "outputId": "cb7bc05b-552c-407d-b285-4ca990691de5"
      },
      "execution_count": 21,
      "outputs": [
        {
          "output_type": "stream",
          "name": "stdout",
          "text": [
            "Enter the index of the seat you want to view: 1\n",
            "Seat Details:\n",
            "Seat Number: A2\n",
            "Section: VIP\n",
            "Availability: Booked\n"
          ]
        }
      ]
    },
    {
      "cell_type": "code",
      "source": [
        "def open_file(filename):\n",
        "    try:\n",
        "        file = open(filename, 'r')\n",
        "        contents = file.read()\n",
        "        print(\"File contents:\")\n",
        "        print(contents)\n",
        "        file.close()\n",
        "    except FileNotFoundError:\n",
        "        print(\"Error: File not found.\")\n",
        "\n",
        "file_name = input(\"Input a file name: \")\n",
        "open_file(file_name)\n"
      ],
      "metadata": {
        "colab": {
          "base_uri": "https://localhost:8080/"
        },
        "id": "HsBi6v2T8IGV",
        "outputId": "a3c61445-cf40-4d02-aeda-f2bdd1be9009"
      },
      "execution_count": 23,
      "outputs": [
        {
          "output_type": "stream",
          "name": "stdout",
          "text": [
            "Input a file name: learn.txt\n",
            "Error: File not found.\n"
          ]
        }
      ]
    },
    {
      "cell_type": "code",
      "source": [
        "try:\n",
        "    initial_investment = float(input(\"Enter the initial investment amount: \"))\n",
        "    final_investment = float(input(\"Enter the final investment amount: \"))\n",
        "    roi = (final_investment - initial_investment) / initial_investment * 100\n",
        "    print(\"Return on Investment (ROI): {:.2f}\".format(roi))\n",
        "except ValueError:\n",
        "    print(\"Error: Please enter a valid numeric value for the investment amount.\")\n",
        "except ZeroDivisionError:\n",
        "    print(\"Error: Initial investment amount cannot be zero.\")\n"
      ],
      "metadata": {
        "colab": {
          "base_uri": "https://localhost:8080/"
        },
        "id": "Bx9dSE-A8gtq",
        "outputId": "bfd21846-f793-4968-8184-69db93d0ecd5"
      },
      "execution_count": 24,
      "outputs": [
        {
          "output_type": "stream",
          "name": "stdout",
          "text": [
            "Enter the initial investment amount: 100\n",
            "Enter the final investment amount: 300\n",
            "Return on Investment (ROI): 200.00\n"
          ]
        }
      ]
    }
  ]
}